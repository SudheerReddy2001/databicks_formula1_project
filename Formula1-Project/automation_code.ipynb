{
 "cells": [
  {
   "cell_type": "code",
   "execution_count": 0,
   "metadata": {
    "application/vnd.databricks.v1+cell": {
     "cellMetadata": {
      "byteLimit": 2048000,
      "rowLimit": 10000
     },
     "inputWidgets": {},
     "nuid": "913bc851-064f-4acf-a0fb-ece968d8bd64",
     "showTitle": false,
     "tableResultSettingsMap": {},
     "title": ""
    }
   },
   "outputs": [],
   "source": [
    "%python\n",
    "# Databricks notebook source\n",
    "dbutils.widgets.text(\"config_type\", \"pyspark\")\n",
    "config_type = dbutils.widgets.get(\"config_type\")\n",
    "\n",
    "dbutils.widgets.text(\"p_file_date\", \"2021-03-21\")\n",
    "v_file_date = dbutils.widgets.get(\"p_file_date\")\n",
    "\n",
    "# COMMAND ----------\n",
    "\n",
    "if config_type == 'pyspark':\n",
    "    dbutils.notebook.run(\"Pyspark/run_all_notebooks\", 500)\n",
    "elif config_type == 'sparksql':    \n",
    "   dbutils.notebook.run(\"SQL/run_all_notebooks\", 700)\n",
    "elif config_type == 'incremental_load':\n",
    "    dbutils.notebook.run(\"incremental_with_parquet/all_run_notebooks\", 1000, {\"p_file_date\": v_file_date})\n",
    "elif config_type == 'delta':\n",
    "    dbutils.notebook.run(\"Deltalake/all-setup_configuration\", 500)\n",
    "    \n",
    "\n",
    "# COMMAND ----------\n",
    "\n",
    "# dbutils.notebook.run(\"Pyspark/0.All-transformation\", 500)\n",
    "\n",
    "# COMMAND ----------\n",
    "\n",
    "# dbutils.notebook.run(\"SQL/0.All-transformation\", 700)\n",
    "\n",
    "# COMMAND ----------\n",
    "\n",
    "# dbutils.notebook.run(\"Delta/0.All-transformation\", 500)\n",
    "\n",
    "# COMMAND ----------\n",
    "\n",
    "# dbutils.notebook.run(\"Increment-Load/0.All-transformation\", 1000)"
   ]
  }
 ],
 "metadata": {
  "application/vnd.databricks.v1+notebook": {
   "computePreferences": null,
   "dashboards": [],
   "environmentMetadata": {
    "base_environment": "",
    "client": "1"
   },
   "language": "sql",
   "notebookMetadata": {
    "pythonIndentUnit": 4
   },
   "notebookName": "automation_code",
   "widgets": {
    "config_type": {
     "currentValue": "pyspark",
     "nuid": "ccb3d980-3684-40a4-8c93-bfa473c1df68",
     "typedWidgetInfo": {
      "autoCreated": false,
      "defaultValue": "pyspark",
      "label": null,
      "name": "config_type",
      "options": {
       "widgetDisplayType": "Text",
       "validationRegex": null
      },
      "parameterDataType": "String"
     },
     "widgetInfo": {
      "widgetType": "text",
      "defaultValue": "pyspark",
      "label": null,
      "name": "config_type",
      "options": {
       "widgetType": "text",
       "autoCreated": null,
       "validationRegex": null
      }
     }
    },
    "p_file_date": {
     "currentValue": "2021-03-21",
     "nuid": "d762eae7-33c8-4862-9fcd-e290b7efc031",
     "typedWidgetInfo": {
      "autoCreated": false,
      "defaultValue": "2021-03-21",
      "label": null,
      "name": "p_file_date",
      "options": {
       "widgetDisplayType": "Text",
       "validationRegex": null
      },
      "parameterDataType": "String"
     },
     "widgetInfo": {
      "widgetType": "text",
      "defaultValue": "2021-03-21",
      "label": null,
      "name": "p_file_date",
      "options": {
       "widgetType": "text",
       "autoCreated": null,
       "validationRegex": null
      }
     }
    }
   }
  },
  "language_info": {
   "name": "sql"
  }
 },
 "nbformat": 4,
 "nbformat_minor": 0
}
