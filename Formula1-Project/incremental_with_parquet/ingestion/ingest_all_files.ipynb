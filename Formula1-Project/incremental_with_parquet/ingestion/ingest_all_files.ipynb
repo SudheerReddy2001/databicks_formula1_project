{
 "cells": [
  {
   "cell_type": "code",
   "execution_count": 0,
   "metadata": {
    "application/vnd.databricks.v1+cell": {
     "cellMetadata": {
      "byteLimit": 2048000,
      "rowLimit": 10000
     },
     "inputWidgets": {},
     "nuid": "b10ee1e3-0225-4046-963f-084dd3afbbed",
     "showTitle": false,
     "tableResultSettingsMap": {},
     "title": ""
    }
   },
   "outputs": [],
   "source": [
    "%python\n",
    "v_result = dbutils.notebook.run(\"Ingest_circuits\", 0, {\"p_data_source\": \"Ergast API\", \"p_file_date\": \"2021-04-18\"})"
   ]
  },
  {
   "cell_type": "code",
   "execution_count": 0,
   "metadata": {
    "application/vnd.databricks.v1+cell": {
     "cellMetadata": {
      "byteLimit": 2048000,
      "rowLimit": 10000
     },
     "inputWidgets": {},
     "nuid": "f1825b94-fb36-4e0a-8010-de8fe2feeeb8",
     "showTitle": false,
     "tableResultSettingsMap": {},
     "title": ""
    }
   },
   "outputs": [],
   "source": [
    "%python\n",
    "v_result = dbutils.notebook.run(\"ingest_races\", 0, {\"p_data_source\": \"Ergast API\", \"p_file_date\": \"2021-04-18\"})"
   ]
  },
  {
   "cell_type": "code",
   "execution_count": 0,
   "metadata": {
    "application/vnd.databricks.v1+cell": {
     "cellMetadata": {
      "byteLimit": 2048000,
      "rowLimit": 10000
     },
     "inputWidgets": {},
     "nuid": "837e131c-3af9-414c-8f2f-ddcb57c494f4",
     "showTitle": false,
     "tableResultSettingsMap": {},
     "title": ""
    }
   },
   "outputs": [],
   "source": [
    "%python\n",
    "v_result = dbutils.notebook.run(\"ingest_constructors\", 0, {\"p_data_source\": \"Ergast API\", \"p_file_date\": \"2021-04-18\"})"
   ]
  },
  {
   "cell_type": "code",
   "execution_count": 0,
   "metadata": {
    "application/vnd.databricks.v1+cell": {
     "cellMetadata": {
      "byteLimit": 2048000,
      "rowLimit": 10000
     },
     "inputWidgets": {},
     "nuid": "5749cc56-c85f-4564-a409-ee887cc2fa3a",
     "showTitle": false,
     "tableResultSettingsMap": {},
     "title": ""
    }
   },
   "outputs": [],
   "source": [
    "%python\n",
    "v_result = dbutils.notebook.run(\"ingest_driver\", 0, {\"p_data_source\": \"Ergast API\", \"p_file_date\": \"2021-04-18\"})"
   ]
  },
  {
   "cell_type": "code",
   "execution_count": 0,
   "metadata": {
    "application/vnd.databricks.v1+cell": {
     "cellMetadata": {
      "byteLimit": 2048000,
      "rowLimit": 10000
     },
     "inputWidgets": {},
     "nuid": "a8e27322-da99-4ad2-b65d-fb33bfa3c1ae",
     "showTitle": false,
     "tableResultSettingsMap": {},
     "title": ""
    }
   },
   "outputs": [],
   "source": [
    "%python\n",
    "v_result = dbutils.notebook.run(\"ingest_results\", 0, {\"p_data_source\": \"Ergast API\", \"p_file_date\": \"2021-04-18\"})"
   ]
  },
  {
   "cell_type": "code",
   "execution_count": 0,
   "metadata": {
    "application/vnd.databricks.v1+cell": {
     "cellMetadata": {
      "byteLimit": 2048000,
      "rowLimit": 10000
     },
     "inputWidgets": {},
     "nuid": "41777d88-031f-4caa-afe6-0ec86c7d4273",
     "showTitle": false,
     "tableResultSettingsMap": {},
     "title": ""
    }
   },
   "outputs": [],
   "source": [
    "%python\n",
    "v_result = dbutils.notebook.run(\"ingest_pit_stops\", 0, {\"p_data_source\": \"Ergast API\", \"p_file_date\": \"2021-04-18\"})"
   ]
  },
  {
   "cell_type": "code",
   "execution_count": 0,
   "metadata": {
    "application/vnd.databricks.v1+cell": {
     "cellMetadata": {
      "byteLimit": 2048000,
      "rowLimit": 10000
     },
     "inputWidgets": {},
     "nuid": "a306a66b-1e54-41e0-b028-7ce4a7e7f50a",
     "showTitle": false,
     "tableResultSettingsMap": {},
     "title": ""
    }
   },
   "outputs": [],
   "source": [
    "%python\n",
    "v_result = dbutils.notebook.run(\"ingest_Lap_Times\", 0, {\"p_data_source\": \"Ergast API\", \"p_file_date\": \"2021-04-18\"})"
   ]
  },
  {
   "cell_type": "code",
   "execution_count": 0,
   "metadata": {
    "application/vnd.databricks.v1+cell": {
     "cellMetadata": {
      "byteLimit": 2048000,
      "rowLimit": 10000
     },
     "inputWidgets": {},
     "nuid": "813193b6-8b02-45a1-9ef8-06a88925d3c6",
     "showTitle": false,
     "tableResultSettingsMap": {},
     "title": ""
    }
   },
   "outputs": [],
   "source": [
    "%python\n",
    "v_result = dbutils.notebook.run(\"ingest_Qualifying\", 0, {\"p_data_source\": \"Ergast API\", \"p_file_date\": \"2021-04-18\"})"
   ]
  }
 ],
 "metadata": {
  "application/vnd.databricks.v1+notebook": {
   "computePreferences": null,
   "dashboards": [],
   "environmentMetadata": {
    "base_environment": "",
    "client": "1"
   },
   "language": "sql",
   "notebookMetadata": {
    "pythonIndentUnit": 4
   },
   "notebookName": "ingest_all_files",
   "widgets": {}
  },
  "language_info": {
   "name": "sql"
  }
 },
 "nbformat": 4,
 "nbformat_minor": 0
}
